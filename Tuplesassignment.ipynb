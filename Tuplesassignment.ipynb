{
 "cells": [
  {
   "cell_type": "markdown",
   "id": "17b50836-5efb-41c5-9bcc-65b9f3cb6333",
   "metadata": {},
   "source": [
    "A tuple is a collection of objects separated by commas and enclosed in parentheses, which are ordered and immutable.\n",
    "Example : \n",
    "t1 = {72,70,99,\"Kanaiya\", True}"
   ]
  },
  {
   "cell_type": "markdown",
   "id": "0e55e1bc-ba9e-453a-b049-6597bc893f5f",
   "metadata": {},
   "source": [
    "A tuple in Python can be created by enclosing all the comma-separated elements inside the parenthesis (). \n",
    "Elements of the tuple are immutable and ordered. It allows duplicate values and can have any number of elements. "
   ]
  },
  {
   "cell_type": "markdown",
   "id": "d28b4537-d0f2-444b-9c3f-3875c4eef789",
   "metadata": {},
   "source": [
    "The primary difference between tuples and lists is that tuples are immutable as opposed to lists which are mutable. \n",
    "Therefore, it is possible to change a list but not a tuple. \n",
    "The contents of a tuple cannot change once they have been created in Python due to the immutability of tuples."
   ]
  },
  {
   "cell_type": "markdown",
   "id": "a9f69db6-0113-4f2c-b82b-a3379e3fe07b",
   "metadata": {},
   "source": [
    "Once a tuple is created, you cannot change its values. Tuples are unchangeable, or immutable as it also is called"
   ]
  },
  {
   "cell_type": "markdown",
   "id": "b7e45513-8066-4004-ac4c-4a88f81fb37c",
   "metadata": {},
   "source": [
    "We can access elements in a tuple in the same way as we do in lists and strings.\n",
    "Hence, we can access elements simply by indexing and slicing. \n",
    "Furthermore, the indexing is simple as in lists, starting from the index zero.\n",
    "Example t[2]"
   ]
  },
  {
   "cell_type": "code",
   "execution_count": 8,
   "id": "a8bdbbd0-b77e-4fd6-811f-18219dd105b8",
   "metadata": {},
   "outputs": [],
   "source": [
    "t1 = (\"green\", \"yellow\", \"orange\")"
   ]
  },
  {
   "cell_type": "code",
   "execution_count": 10,
   "id": "a98cd477-4b5e-4072-b23b-573128510c45",
   "metadata": {},
   "outputs": [
    {
     "ename": "SyntaxError",
     "evalue": "cannot assign to literal (1156856112.py, line 1)",
     "output_type": "error",
     "traceback": [
      "\u001b[0;36m  Cell \u001b[0;32mIn[10], line 1\u001b[0;36m\u001b[0m\n\u001b[0;31m    (\"Apple\", \"Banana\", \"Lemon\")= t1\u001b[0m\n\u001b[0m     ^\u001b[0m\n\u001b[0;31mSyntaxError\u001b[0m\u001b[0;31m:\u001b[0m cannot assign to literal\n"
     ]
    }
   ],
   "source": [
    "(\"Apple\", \"Banana\", \"Lemon\")= t1"
   ]
  },
  {
   "cell_type": "code",
   "execution_count": null,
   "id": "8595a389-bcdb-402a-bb2f-12679ca20292",
   "metadata": {},
   "outputs": [],
   "source": []
  }
 ],
 "metadata": {
  "kernelspec": {
   "display_name": "Python 3 (ipykernel)",
   "language": "python",
   "name": "python3"
  },
  "language_info": {
   "codemirror_mode": {
    "name": "ipython",
    "version": 3
   },
   "file_extension": ".py",
   "mimetype": "text/x-python",
   "name": "python",
   "nbconvert_exporter": "python",
   "pygments_lexer": "ipython3",
   "version": "3.10.8"
  }
 },
 "nbformat": 4,
 "nbformat_minor": 5
}
